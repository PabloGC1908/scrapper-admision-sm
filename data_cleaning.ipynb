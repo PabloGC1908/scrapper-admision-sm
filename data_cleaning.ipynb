{
 "cells": [
  {
   "cell_type": "code",
   "execution_count": 3,
   "id": "initial_id",
   "metadata": {
    "collapsed": true,
    "ExecuteTime": {
     "end_time": "2024-03-17T15:44:41.226162Z",
     "start_time": "2024-03-17T15:44:41.221899Z"
    }
   },
   "outputs": [],
   "source": [
    "import pandas as pd"
   ]
  },
  {
   "cell_type": "code",
   "outputs": [
    {
     "data": {
      "text/plain": "       Codigo                Apellidos y Nombres     Escuela Profesional  \\\n0      781555            ABAD NEYRA, ANDREA TAIS          DERECHO - LIMA   \n1      758996        ABANTO ROSALES, YOMAR YOHEL          DERECHO - LIMA   \n2      708157     ABREGU CAQUI, ALESSANDRA JUANA          DERECHO - LIMA   \n3      759668  ACCARAPI DE LA CRUZ, NAHOMY ROSSY          DERECHO - LIMA   \n4      765340    ACHAMIZO AYALA, KARITHO RISONNY          DERECHO - LIMA   \n...       ...                                ...                     ...   \n15468  300372         PUMA ALVAREZ, JHEAN CARLOS  INGENIERÍA DE SOFTWARE   \n15469  238124        ROMERO LEÓN, WILMAR MELITÓN  INGENIERÍA DE SOFTWARE   \n15470  223577             SAAVEDRA PÉREZ, ADRIAN  INGENIERÍA DE SOFTWARE   \n15471  307185   SOTOMAYOR ACOSTA, RAULINO MATSUE  INGENIERÍA DE SOFTWARE   \n15472  227477          TAYPE CHARA, URPI LOURDES  INGENIERÍA DE SOFTWARE   \n\n      Puntaje Final  Merito Observacion Escuela Segunda Opcion  Proceso  \\\n0          1100.875     NaN         NaN                    NaN  2024-II   \n1           965.125     NaN         NaN                    NaN  2024-II   \n2            461.75     NaN         NaN                    NaN  2024-II   \n3          1165.125     NaN         NaN                    NaN  2024-II   \n4           924.875     NaN         NaN                    NaN  2024-II   \n...             ...     ...         ...                    ...      ...   \n15468         523.5     NaN         NaN                    NaN  2024-II   \n15469         732.5     NaN         NaN                    NaN  2024-II   \n15470       271.625     NaN         NaN                    NaN  2024-II   \n15471       713.625     NaN         NaN                    NaN  2024-II   \n15472        348.25     NaN         NaN                    NaN  2024-II   \n\n                                               Modalidad  \n0      EDUCACIÓN BÁSICA REGULAR (EBR) Y EDUCACIÓN BÁS...  \n1      EDUCACIÓN BÁSICA REGULAR (EBR) Y EDUCACIÓN BÁS...  \n2      EDUCACIÓN BÁSICA REGULAR (EBR) Y EDUCACIÓN BÁS...  \n3      EDUCACIÓN BÁSICA REGULAR (EBR) Y EDUCACIÓN BÁS...  \n4      EDUCACIÓN BÁSICA REGULAR (EBR) Y EDUCACIÓN BÁS...  \n...                                                  ...  \n15468                      PLAN INTEGRAL DE REPARACIONES  \n15469                      PLAN INTEGRAL DE REPARACIONES  \n15470                      PLAN INTEGRAL DE REPARACIONES  \n15471                      PLAN INTEGRAL DE REPARACIONES  \n15472                      PLAN INTEGRAL DE REPARACIONES  \n\n[15473 rows x 9 columns]",
      "text/html": "<div>\n<style scoped>\n    .dataframe tbody tr th:only-of-type {\n        vertical-align: middle;\n    }\n\n    .dataframe tbody tr th {\n        vertical-align: top;\n    }\n\n    .dataframe thead th {\n        text-align: right;\n    }\n</style>\n<table border=\"1\" class=\"dataframe\">\n  <thead>\n    <tr style=\"text-align: right;\">\n      <th></th>\n      <th>Codigo</th>\n      <th>Apellidos y Nombres</th>\n      <th>Escuela Profesional</th>\n      <th>Puntaje Final</th>\n      <th>Merito</th>\n      <th>Observacion</th>\n      <th>Escuela Segunda Opcion</th>\n      <th>Proceso</th>\n      <th>Modalidad</th>\n    </tr>\n  </thead>\n  <tbody>\n    <tr>\n      <th>0</th>\n      <td>781555</td>\n      <td>ABAD NEYRA, ANDREA TAIS</td>\n      <td>DERECHO - LIMA</td>\n      <td>1100.875</td>\n      <td>NaN</td>\n      <td>NaN</td>\n      <td>NaN</td>\n      <td>2024-II</td>\n      <td>EDUCACIÓN BÁSICA REGULAR (EBR) Y EDUCACIÓN BÁS...</td>\n    </tr>\n    <tr>\n      <th>1</th>\n      <td>758996</td>\n      <td>ABANTO ROSALES, YOMAR YOHEL</td>\n      <td>DERECHO - LIMA</td>\n      <td>965.125</td>\n      <td>NaN</td>\n      <td>NaN</td>\n      <td>NaN</td>\n      <td>2024-II</td>\n      <td>EDUCACIÓN BÁSICA REGULAR (EBR) Y EDUCACIÓN BÁS...</td>\n    </tr>\n    <tr>\n      <th>2</th>\n      <td>708157</td>\n      <td>ABREGU CAQUI, ALESSANDRA JUANA</td>\n      <td>DERECHO - LIMA</td>\n      <td>461.75</td>\n      <td>NaN</td>\n      <td>NaN</td>\n      <td>NaN</td>\n      <td>2024-II</td>\n      <td>EDUCACIÓN BÁSICA REGULAR (EBR) Y EDUCACIÓN BÁS...</td>\n    </tr>\n    <tr>\n      <th>3</th>\n      <td>759668</td>\n      <td>ACCARAPI DE LA CRUZ, NAHOMY ROSSY</td>\n      <td>DERECHO - LIMA</td>\n      <td>1165.125</td>\n      <td>NaN</td>\n      <td>NaN</td>\n      <td>NaN</td>\n      <td>2024-II</td>\n      <td>EDUCACIÓN BÁSICA REGULAR (EBR) Y EDUCACIÓN BÁS...</td>\n    </tr>\n    <tr>\n      <th>4</th>\n      <td>765340</td>\n      <td>ACHAMIZO AYALA, KARITHO RISONNY</td>\n      <td>DERECHO - LIMA</td>\n      <td>924.875</td>\n      <td>NaN</td>\n      <td>NaN</td>\n      <td>NaN</td>\n      <td>2024-II</td>\n      <td>EDUCACIÓN BÁSICA REGULAR (EBR) Y EDUCACIÓN BÁS...</td>\n    </tr>\n    <tr>\n      <th>...</th>\n      <td>...</td>\n      <td>...</td>\n      <td>...</td>\n      <td>...</td>\n      <td>...</td>\n      <td>...</td>\n      <td>...</td>\n      <td>...</td>\n      <td>...</td>\n    </tr>\n    <tr>\n      <th>15468</th>\n      <td>300372</td>\n      <td>PUMA ALVAREZ, JHEAN CARLOS</td>\n      <td>INGENIERÍA DE SOFTWARE</td>\n      <td>523.5</td>\n      <td>NaN</td>\n      <td>NaN</td>\n      <td>NaN</td>\n      <td>2024-II</td>\n      <td>PLAN INTEGRAL DE REPARACIONES</td>\n    </tr>\n    <tr>\n      <th>15469</th>\n      <td>238124</td>\n      <td>ROMERO LEÓN, WILMAR MELITÓN</td>\n      <td>INGENIERÍA DE SOFTWARE</td>\n      <td>732.5</td>\n      <td>NaN</td>\n      <td>NaN</td>\n      <td>NaN</td>\n      <td>2024-II</td>\n      <td>PLAN INTEGRAL DE REPARACIONES</td>\n    </tr>\n    <tr>\n      <th>15470</th>\n      <td>223577</td>\n      <td>SAAVEDRA PÉREZ, ADRIAN</td>\n      <td>INGENIERÍA DE SOFTWARE</td>\n      <td>271.625</td>\n      <td>NaN</td>\n      <td>NaN</td>\n      <td>NaN</td>\n      <td>2024-II</td>\n      <td>PLAN INTEGRAL DE REPARACIONES</td>\n    </tr>\n    <tr>\n      <th>15471</th>\n      <td>307185</td>\n      <td>SOTOMAYOR ACOSTA, RAULINO MATSUE</td>\n      <td>INGENIERÍA DE SOFTWARE</td>\n      <td>713.625</td>\n      <td>NaN</td>\n      <td>NaN</td>\n      <td>NaN</td>\n      <td>2024-II</td>\n      <td>PLAN INTEGRAL DE REPARACIONES</td>\n    </tr>\n    <tr>\n      <th>15472</th>\n      <td>227477</td>\n      <td>TAYPE CHARA, URPI LOURDES</td>\n      <td>INGENIERÍA DE SOFTWARE</td>\n      <td>348.25</td>\n      <td>NaN</td>\n      <td>NaN</td>\n      <td>NaN</td>\n      <td>2024-II</td>\n      <td>PLAN INTEGRAL DE REPARACIONES</td>\n    </tr>\n  </tbody>\n</table>\n<p>15473 rows × 9 columns</p>\n</div>"
     },
     "execution_count": 4,
     "metadata": {},
     "output_type": "execute_result"
    }
   ],
   "source": [
    "df_postulantes = pd.read_csv('2024-II.csv')\n",
    "df_postulantes"
   ],
   "metadata": {
    "collapsed": false,
    "ExecuteTime": {
     "end_time": "2024-03-17T15:44:42.447945Z",
     "start_time": "2024-03-17T15:44:42.371487Z"
    }
   },
   "id": "4e1ca506bdd5ef",
   "execution_count": 4
  },
  {
   "cell_type": "markdown",
   "source": [
    "Poner el valor a -1 a ingresantes mediante el Articulo 71"
   ],
   "metadata": {
    "collapsed": false
   },
   "id": "e394b65a4037b83a"
  },
  {
   "cell_type": "code",
   "outputs": [
    {
     "name": "stdout",
     "output_type": "stream",
     "text": [
      "<class 'pandas.core.frame.DataFrame'>\n",
      "RangeIndex: 15473 entries, 0 to 15472\n",
      "Data columns (total 9 columns):\n",
      " #   Column                  Non-Null Count  Dtype  \n",
      "---  ------                  --------------  -----  \n",
      " 0   Codigo                  15473 non-null  int64  \n",
      " 1   Apellidos y Nombres     15473 non-null  object \n",
      " 2   Escuela Profesional     15473 non-null  object \n",
      " 3   Puntaje Final           15332 non-null  float64\n",
      " 4   Merito                  2554 non-null   float64\n",
      " 5   Observacion             2695 non-null   object \n",
      " 6   Escuela Segunda Opcion  446 non-null    object \n",
      " 7   Proceso                 15473 non-null  object \n",
      " 8   Modalidad               15473 non-null  object \n",
      "dtypes: float64(2), int64(1), object(6)\n",
      "memory usage: 1.1+ MB\n"
     ]
    }
   ],
   "source": [
    "for i in df_postulantes.index:\n",
    "    if df_postulantes.loc[i, 'Puntaje Final'] == 'Art. 71Âº Reglamento de Admisión / Ley Universitaria N.Â° 30220 y sus modificatorias':\n",
    "        df_postulantes.loc[i, 'Puntaje Final'] = -1\n",
    "\n",
    "df_postulantes['Puntaje Final'] = df_postulantes['Puntaje Final'].astype(float)\n",
    "df_postulantes.info()"
   ],
   "metadata": {
    "collapsed": false,
    "ExecuteTime": {
     "end_time": "2024-03-17T15:44:45.225242Z",
     "start_time": "2024-03-17T15:44:45.128601Z"
    }
   },
   "id": "44cae3fe20dd9ef7",
   "execution_count": 5
  },
  {
   "cell_type": "code",
   "outputs": [],
   "source": [],
   "metadata": {
    "collapsed": false
   },
   "id": "66e3e7367f3f8dcc"
  }
 ],
 "metadata": {
  "kernelspec": {
   "display_name": "Python 3",
   "language": "python",
   "name": "python3"
  },
  "language_info": {
   "codemirror_mode": {
    "name": "ipython",
    "version": 2
   },
   "file_extension": ".py",
   "mimetype": "text/x-python",
   "name": "python",
   "nbconvert_exporter": "python",
   "pygments_lexer": "ipython2",
   "version": "2.7.6"
  }
 },
 "nbformat": 4,
 "nbformat_minor": 5
}
