{
 "cells": [
  {
   "cell_type": "code",
   "execution_count": 1,
   "id": "initial_id",
   "metadata": {
    "collapsed": true,
    "ExecuteTime": {
     "end_time": "2024-03-19T05:49:28.510455Z",
     "start_time": "2024-03-19T05:49:28.084182Z"
    }
   },
   "outputs": [],
   "source": [
    "import pandas as pd"
   ]
  },
  {
   "cell_type": "code",
   "outputs": [
    {
     "data": {
      "text/plain": "       Codigo                  Apellidos y Nombres     Escuela Profesional  \\\n0      862509              ABAD ONCOY, MARIA BELEN         MEDICINA HUMANA   \n1      893199               ABAL CHAVEZ, YENDERZON         MEDICINA HUMANA   \n2      893029           ABANTO ARAUJO, PERCY ANGEL         MEDICINA HUMANA   \n3      852546  ABANTO CHOQUEHUANCA, KAREN ESTEFANY         MEDICINA HUMANA   \n4      857786       ABANTO HUERTA, ANDREÉ FABRIZIO         MEDICINA HUMANA   \n...       ...                                  ...                     ...   \n23354  300372           PUMA ALVAREZ, JHEAN CARLOS  INGENIERÍA DE SOFTWARE   \n23355  238124          ROMERO LEÓN, WILMAR MELITÓN  INGENIERÍA DE SOFTWARE   \n23356  223577               SAAVEDRA PÉREZ, ADRIAN  INGENIERÍA DE SOFTWARE   \n23357  307185     SOTOMAYOR ACOSTA, RAULINO MATSUE  INGENIERÍA DE SOFTWARE   \n23358  227477            TAYPE CHARA, URPI LOURDES  INGENIERÍA DE SOFTWARE   \n\n      Puntaje Final  Merito Observacion Escuela Segunda Opcion  Proceso  \\\n0           576.375     NaN         NaN                    NaN  2024-II   \n1           382.375     NaN         NaN                    NaN  2024-II   \n2           964.875     NaN         NaN                    NaN  2024-II   \n3           860.375     NaN         NaN                    NaN  2024-II   \n4           500.125     NaN         NaN                    NaN  2024-II   \n...             ...     ...         ...                    ...      ...   \n23354         523.5     NaN         NaN                    NaN  2024-II   \n23355         732.5     NaN         NaN                    NaN  2024-II   \n23356       271.625     NaN         NaN                    NaN  2024-II   \n23357       713.625     NaN         NaN                    NaN  2024-II   \n23358        348.25     NaN         NaN                    NaN  2024-II   \n\n                                               Modalidad  \n0      EDUCACIÓN BÁSICA REGULAR (EBR) Y EDUCACIÓN BÁS...  \n1      EDUCACIÓN BÁSICA REGULAR (EBR) Y EDUCACIÓN BÁS...  \n2      EDUCACIÓN BÁSICA REGULAR (EBR) Y EDUCACIÓN BÁS...  \n3      EDUCACIÓN BÁSICA REGULAR (EBR) Y EDUCACIÓN BÁS...  \n4      EDUCACIÓN BÁSICA REGULAR (EBR) Y EDUCACIÓN BÁS...  \n...                                                  ...  \n23354                      PLAN INTEGRAL DE REPARACIONES  \n23355                      PLAN INTEGRAL DE REPARACIONES  \n23356                      PLAN INTEGRAL DE REPARACIONES  \n23357                      PLAN INTEGRAL DE REPARACIONES  \n23358                      PLAN INTEGRAL DE REPARACIONES  \n\n[23359 rows x 9 columns]",
      "text/html": "<div>\n<style scoped>\n    .dataframe tbody tr th:only-of-type {\n        vertical-align: middle;\n    }\n\n    .dataframe tbody tr th {\n        vertical-align: top;\n    }\n\n    .dataframe thead th {\n        text-align: right;\n    }\n</style>\n<table border=\"1\" class=\"dataframe\">\n  <thead>\n    <tr style=\"text-align: right;\">\n      <th></th>\n      <th>Codigo</th>\n      <th>Apellidos y Nombres</th>\n      <th>Escuela Profesional</th>\n      <th>Puntaje Final</th>\n      <th>Merito</th>\n      <th>Observacion</th>\n      <th>Escuela Segunda Opcion</th>\n      <th>Proceso</th>\n      <th>Modalidad</th>\n    </tr>\n  </thead>\n  <tbody>\n    <tr>\n      <th>0</th>\n      <td>862509</td>\n      <td>ABAD ONCOY, MARIA BELEN</td>\n      <td>MEDICINA HUMANA</td>\n      <td>576.375</td>\n      <td>NaN</td>\n      <td>NaN</td>\n      <td>NaN</td>\n      <td>2024-II</td>\n      <td>EDUCACIÓN BÁSICA REGULAR (EBR) Y EDUCACIÓN BÁS...</td>\n    </tr>\n    <tr>\n      <th>1</th>\n      <td>893199</td>\n      <td>ABAL CHAVEZ, YENDERZON</td>\n      <td>MEDICINA HUMANA</td>\n      <td>382.375</td>\n      <td>NaN</td>\n      <td>NaN</td>\n      <td>NaN</td>\n      <td>2024-II</td>\n      <td>EDUCACIÓN BÁSICA REGULAR (EBR) Y EDUCACIÓN BÁS...</td>\n    </tr>\n    <tr>\n      <th>2</th>\n      <td>893029</td>\n      <td>ABANTO ARAUJO, PERCY ANGEL</td>\n      <td>MEDICINA HUMANA</td>\n      <td>964.875</td>\n      <td>NaN</td>\n      <td>NaN</td>\n      <td>NaN</td>\n      <td>2024-II</td>\n      <td>EDUCACIÓN BÁSICA REGULAR (EBR) Y EDUCACIÓN BÁS...</td>\n    </tr>\n    <tr>\n      <th>3</th>\n      <td>852546</td>\n      <td>ABANTO CHOQUEHUANCA, KAREN ESTEFANY</td>\n      <td>MEDICINA HUMANA</td>\n      <td>860.375</td>\n      <td>NaN</td>\n      <td>NaN</td>\n      <td>NaN</td>\n      <td>2024-II</td>\n      <td>EDUCACIÓN BÁSICA REGULAR (EBR) Y EDUCACIÓN BÁS...</td>\n    </tr>\n    <tr>\n      <th>4</th>\n      <td>857786</td>\n      <td>ABANTO HUERTA, ANDREÉ FABRIZIO</td>\n      <td>MEDICINA HUMANA</td>\n      <td>500.125</td>\n      <td>NaN</td>\n      <td>NaN</td>\n      <td>NaN</td>\n      <td>2024-II</td>\n      <td>EDUCACIÓN BÁSICA REGULAR (EBR) Y EDUCACIÓN BÁS...</td>\n    </tr>\n    <tr>\n      <th>...</th>\n      <td>...</td>\n      <td>...</td>\n      <td>...</td>\n      <td>...</td>\n      <td>...</td>\n      <td>...</td>\n      <td>...</td>\n      <td>...</td>\n      <td>...</td>\n    </tr>\n    <tr>\n      <th>23354</th>\n      <td>300372</td>\n      <td>PUMA ALVAREZ, JHEAN CARLOS</td>\n      <td>INGENIERÍA DE SOFTWARE</td>\n      <td>523.5</td>\n      <td>NaN</td>\n      <td>NaN</td>\n      <td>NaN</td>\n      <td>2024-II</td>\n      <td>PLAN INTEGRAL DE REPARACIONES</td>\n    </tr>\n    <tr>\n      <th>23355</th>\n      <td>238124</td>\n      <td>ROMERO LEÓN, WILMAR MELITÓN</td>\n      <td>INGENIERÍA DE SOFTWARE</td>\n      <td>732.5</td>\n      <td>NaN</td>\n      <td>NaN</td>\n      <td>NaN</td>\n      <td>2024-II</td>\n      <td>PLAN INTEGRAL DE REPARACIONES</td>\n    </tr>\n    <tr>\n      <th>23356</th>\n      <td>223577</td>\n      <td>SAAVEDRA PÉREZ, ADRIAN</td>\n      <td>INGENIERÍA DE SOFTWARE</td>\n      <td>271.625</td>\n      <td>NaN</td>\n      <td>NaN</td>\n      <td>NaN</td>\n      <td>2024-II</td>\n      <td>PLAN INTEGRAL DE REPARACIONES</td>\n    </tr>\n    <tr>\n      <th>23357</th>\n      <td>307185</td>\n      <td>SOTOMAYOR ACOSTA, RAULINO MATSUE</td>\n      <td>INGENIERÍA DE SOFTWARE</td>\n      <td>713.625</td>\n      <td>NaN</td>\n      <td>NaN</td>\n      <td>NaN</td>\n      <td>2024-II</td>\n      <td>PLAN INTEGRAL DE REPARACIONES</td>\n    </tr>\n    <tr>\n      <th>23358</th>\n      <td>227477</td>\n      <td>TAYPE CHARA, URPI LOURDES</td>\n      <td>INGENIERÍA DE SOFTWARE</td>\n      <td>348.25</td>\n      <td>NaN</td>\n      <td>NaN</td>\n      <td>NaN</td>\n      <td>2024-II</td>\n      <td>PLAN INTEGRAL DE REPARACIONES</td>\n    </tr>\n  </tbody>\n</table>\n<p>23359 rows × 9 columns</p>\n</div>"
     },
     "execution_count": 2,
     "metadata": {},
     "output_type": "execute_result"
    }
   ],
   "source": [
    "df_postulantes = pd.read_csv('2024-II.csv')\n",
    "df_postulantes"
   ],
   "metadata": {
    "collapsed": false,
    "ExecuteTime": {
     "end_time": "2024-03-19T05:49:47.032635Z",
     "start_time": "2024-03-19T05:49:46.949559Z"
    }
   },
   "id": "4e1ca506bdd5ef",
   "execution_count": 2
  },
  {
   "cell_type": "markdown",
   "source": [
    "Poner el valor a -1 a ingresantes mediante el Articulo 71"
   ],
   "metadata": {
    "collapsed": false
   },
   "id": "e394b65a4037b83a"
  },
  {
   "cell_type": "code",
   "outputs": [],
   "source": [
    "for i in df_postulantes.index:\n",
    "    if df_postulantes.loc[i, 'Puntaje Final'] == 'Art. 71Âº Reglamento de Admisi ón / Ley Universitaria N.Â° 30220 y sus modificatorias':\n",
    "        df_postulantes.loc[i, 'Puntaje Final'] = -1\n"
   ],
   "metadata": {
    "collapsed": false,
    "ExecuteTime": {
     "end_time": "2024-03-19T05:49:49.341282Z",
     "start_time": "2024-03-19T05:49:49.185865Z"
    }
   },
   "id": "44cae3fe20dd9ef7",
   "execution_count": 3
  },
  {
   "cell_type": "code",
   "outputs": [
    {
     "name": "stdout",
     "output_type": "stream",
     "text": [
      "<class 'pandas.core.frame.DataFrame'>\n",
      "RangeIndex: 23359 entries, 0 to 23358\n",
      "Data columns (total 9 columns):\n",
      " #   Column                  Non-Null Count  Dtype  \n",
      "---  ------                  --------------  -----  \n",
      " 0   Codigo                  23359 non-null  int64  \n",
      " 1   Apellidos y Nombres     23359 non-null  object \n",
      " 2   Escuela Profesional     23359 non-null  object \n",
      " 3   Puntaje Final           23133 non-null  float64\n",
      " 4   Merito                  2870 non-null   float64\n",
      " 5   Observacion             3309 non-null   object \n",
      " 6   Escuela Segunda Opcion  549 non-null    object \n",
      " 7   Proceso                 23359 non-null  object \n",
      " 8   Modalidad               23359 non-null  object \n",
      "dtypes: float64(2), int64(1), object(6)\n",
      "memory usage: 1.6+ MB\n"
     ]
    }
   ],
   "source": [
    "df_postulantes['Puntaje Final'] = df_postulantes['Puntaje Final'].astype(float)\n",
    "df_postulantes.info()"
   ],
   "metadata": {
    "collapsed": false,
    "ExecuteTime": {
     "end_time": "2024-03-19T05:49:50.467267Z",
     "start_time": "2024-03-19T05:49:50.449788Z"
    }
   },
   "id": "66e3e7367f3f8dcc",
   "execution_count": 4
  },
  {
   "cell_type": "code",
   "outputs": [
    {
     "data": {
      "text/plain": "Escuela Profesional\nADMINISTRACIÓN - HUARAL                                738.250000\nADMINISTRACIÓN - LIMA                                  743.957420\nADMINISTRACIÓN - S.J.L                                 617.690000\nADMINISTRACIÓN DE LA GASTRONOMÍA                       665.147727\nADMINISTRACIÓN DE NEGOCIOS INTERNACIONALES - HUARAL    712.355769\n                                                          ...    \nTEC. MED. RADIOLOGÍA                                   623.606250\nTEC. MED. TERAPIA FÍSICA Y REHABILITACIÓN              610.289195\nTEC. MED. TERAPIA OCUPACIONAL                          574.275641\nTOXICOLOGÍA                                            670.040179\nTRABAJO SOCIAL                                         748.455270\nName: Puntaje Final, Length: 94, dtype: float64"
     },
     "execution_count": 5,
     "metadata": {},
     "output_type": "execute_result"
    }
   ],
   "source": [
    "df_postulantes.groupby('Escuela Profesional')['Puntaje Final'].mean()"
   ],
   "metadata": {
    "collapsed": false,
    "ExecuteTime": {
     "end_time": "2024-03-19T05:49:53.116065Z",
     "start_time": "2024-03-19T05:49:53.106441Z"
    }
   },
   "id": "75531c578612128f",
   "execution_count": 5
  },
  {
   "cell_type": "code",
   "outputs": [
    {
     "data": {
      "text/plain": "Escuela Profesional\nADMINISTRACIÓN - HUARAL                                  8\nADMINISTRACIÓN - LIMA                                  689\nADMINISTRACIÓN - S.J.L                                  26\nADMINISTRACIÓN DE LA GASTRONOMÍA                       104\nADMINISTRACIÓN DE NEGOCIOS INTERNACIONALES - HUARAL     13\n                                                      ... \nTEC. MED. RADIOLOGÍA                                    81\nTEC. MED. TERAPIA FÍSICA Y REHABILITACIÓN              120\nTEC. MED. TERAPIA OCUPACIONAL                           39\nTOXICOLOGÍA                                             31\nTRABAJO SOCIAL                                         206\nName: Codigo, Length: 94, dtype: int64"
     },
     "execution_count": 6,
     "metadata": {},
     "output_type": "execute_result"
    }
   ],
   "source": [
    "df_postulantes.groupby('Escuela Profesional')['Codigo'].count()"
   ],
   "metadata": {
    "collapsed": false,
    "ExecuteTime": {
     "end_time": "2024-03-19T05:50:01.860457Z",
     "start_time": "2024-03-19T05:50:01.847775Z"
    }
   },
   "id": "4a5cafdf3c43e801",
   "execution_count": 6
  },
  {
   "cell_type": "code",
   "outputs": [
    {
     "data": {
      "text/plain": "Escuela Profesional\nADMINISTRACIÓN - HUARAL                                 907.125\nADMINISTRACIÓN - LIMA                                  1535.250\nADMINISTRACIÓN - S.J.L                                 1065.125\nADMINISTRACIÓN DE LA GASTRONOMÍA                       1218.375\nADMINISTRACIÓN DE NEGOCIOS INTERNACIONALES - HUARAL    1070.500\n                                                         ...   \nTEC. MED. RADIOLOGÍA                                   1049.375\nTEC. MED. TERAPIA FÍSICA Y REHABILITACIÓN              1091.625\nTEC. MED. TERAPIA OCUPACIONAL                           944.875\nTOXICOLOGÍA                                             990.500\nTRABAJO SOCIAL                                         1366.250\nName: Puntaje Final, Length: 94, dtype: float64"
     },
     "execution_count": 10,
     "metadata": {},
     "output_type": "execute_result"
    }
   ],
   "source": [
    "df_postulantes.groupby('Escuela Profesional')['Puntaje Final'].max()"
   ],
   "metadata": {
    "collapsed": false,
    "ExecuteTime": {
     "end_time": "2024-03-18T22:57:42.640331Z",
     "start_time": "2024-03-18T22:57:42.629120Z"
    }
   },
   "id": "f45195f2800c51e3",
   "execution_count": 10
  },
  {
   "cell_type": "code",
   "outputs": [],
   "source": [],
   "metadata": {
    "collapsed": false
   },
   "id": "78b2183288ad6e00"
  }
 ],
 "metadata": {
  "kernelspec": {
   "display_name": "Python 3",
   "language": "python",
   "name": "python3"
  },
  "language_info": {
   "codemirror_mode": {
    "name": "ipython",
    "version": 2
   },
   "file_extension": ".py",
   "mimetype": "text/x-python",
   "name": "python",
   "nbconvert_exporter": "python",
   "pygments_lexer": "ipython2",
   "version": "2.7.6"
  }
 },
 "nbformat": 4,
 "nbformat_minor": 5
}
